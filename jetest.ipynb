{
 "cells": [
  {
   "cell_type": "code",
   "execution_count": 58,
   "metadata": {},
   "outputs": [],
   "source": [
    "chaine = \"python2\""
   ]
  },
  {
   "cell_type": "code",
   "execution_count": 59,
   "metadata": {},
   "outputs": [
    {
     "name": "stdout",
     "output_type": "stream",
     "text": [
      "p\n",
      "y\n",
      "t\n",
      "h\n",
      "o\n",
      "n\n",
      "2\n"
     ]
    }
   ],
   "source": [
    "for i in chaine: \n",
    "    print(i)"
   ]
  },
  {
   "cell_type": "code",
   "execution_count": 70,
   "metadata": {},
   "outputs": [],
   "source": [
    "it_1 = chaine.__iter__()"
   ]
  },
  {
   "cell_type": "code",
   "execution_count": 61,
   "metadata": {},
   "outputs": [
    {
     "data": {
      "text/plain": [
       "<str_iterator at 0x10706f970>"
      ]
     },
     "execution_count": 61,
     "metadata": {},
     "output_type": "execute_result"
    }
   ],
   "source": [
    "it  "
   ]
  },
  {
   "cell_type": "code",
   "execution_count": 71,
   "metadata": {},
   "outputs": [
    {
     "data": {
      "text/plain": [
       "'p'"
      ]
     },
     "execution_count": 71,
     "metadata": {},
     "output_type": "execute_result"
    }
   ],
   "source": [
    "it_1.__next__()"
   ]
  },
  {
   "cell_type": "code",
   "execution_count": 132,
   "metadata": {},
   "outputs": [],
   "source": [
    "class Phrase:\n",
    "    def __init__(self, obj):\n",
    "        self.obj = obj \n",
    "        self.taille = len(obj)\n",
    "        self.compteur = 0 \n",
    "\n",
    "    def __iter__(self): \n",
    "        return self \n",
    "\n",
    "    def __next__(self): \n",
    "        if self.compteur >= self.taille:\n",
    "            raise StopIteration\n",
    "        else: \n",
    "            res = self.obj[self.compteur]\n",
    "        self.compteur += 2 \n",
    "        \n",
    "        return res \n",
    "    \n",
    "    def __contains__(self, chaine): \n",
    "        return chaine in self.obj \n",
    "     \n",
    "    \n",
    "     \n",
    "\n"
   ]
  },
  {
   "cell_type": "code",
   "execution_count": 133,
   "metadata": {},
   "outputs": [],
   "source": [
    "c = Phrase(\"hello Bonjour\")"
   ]
  },
  {
   "cell_type": "code",
   "execution_count": 134,
   "metadata": {},
   "outputs": [
    {
     "name": "stdout",
     "output_type": "stream",
     "text": [
      "h\n",
      "l\n",
      "o\n",
      "B\n",
      "n\n",
      "o\n",
      "r\n"
     ]
    }
   ],
   "source": [
    "for i in c : \n",
    "    print(i)"
   ]
  },
  {
   "cell_type": "code",
   "execution_count": 126,
   "metadata": {},
   "outputs": [
    {
     "data": {
      "text/plain": [
       "True"
      ]
     },
     "execution_count": 126,
     "metadata": {},
     "output_type": "execute_result"
    }
   ],
   "source": [
    "\"hello\" in c "
   ]
  },
  {
   "cell_type": "code",
   "execution_count": 127,
   "metadata": {},
   "outputs": [],
   "source": [
    "L =[1, 2 ,3]"
   ]
  },
  {
   "cell_type": "code",
   "execution_count": 128,
   "metadata": {},
   "outputs": [
    {
     "name": "stdout",
     "output_type": "stream",
     "text": [
      "1\n",
      "2\n",
      "3\n"
     ]
    }
   ],
   "source": [
    "for i in L: \n",
    "    print(i)"
   ]
  },
  {
   "cell_type": "code",
   "execution_count": 131,
   "metadata": {},
   "outputs": [
    {
     "name": "stdout",
     "output_type": "stream",
     "text": [
      "1\n",
      "2\n",
      "3\n"
     ]
    }
   ],
   "source": [
    "it = L.__iter__()\n",
    "\n",
    "for i in range(len(L)): \n",
    "    print(it.__next__())"
   ]
  },
  {
   "cell_type": "code",
   "execution_count": 3,
   "metadata": {},
   "outputs": [],
   "source": []
  },
  {
   "cell_type": "code",
   "execution_count": 49,
   "metadata": {},
   "outputs": [],
   "source": []
  },
  {
   "cell_type": "code",
   "execution_count": 46,
   "metadata": {},
   "outputs": [],
   "source": []
  },
  {
   "cell_type": "code",
   "execution_count": 47,
   "metadata": {},
   "outputs": [
    {
     "name": "stdout",
     "output_type": "stream",
     "text": [
      "5-->9-->5-->4-->3-->None\n"
     ]
    }
   ],
   "source": [
    "liste.afficher()"
   ]
  },
  {
   "cell_type": "code",
   "execution_count": 48,
   "metadata": {},
   "outputs": [],
   "source": [
    "liste.copy()"
   ]
  },
  {
   "cell_type": "code",
   "execution_count": 87,
   "metadata": {},
   "outputs": [],
   "source": [
    "class Node: \n",
    "    def __init__(self,data, next_node): \n",
    "        self.data = data \n",
    "        self.next = next_node  \n",
    "\n",
    "\n",
    "\n",
    "\n",
    "class LinkedList : \n",
    "\n",
    "    def __init__(self): \n",
    "\n",
    "        self.head = None \n",
    "    \n",
    "    def append(self, v): \n",
    "        self.head = Node(v , self.head)\n",
    "\n",
    "    \n",
    "    def copy(self): \n",
    "        this_node = self.head \n",
    "        new_head = Node(this_node.data, None)\n",
    "        while this_node is not None: \n",
    "            new_head = Node(this_node.data, new_head)\n",
    "            this_node = this_node.next\n",
    "\n",
    "        L = LinkedList()\n",
    "        L.head = new_head\n",
    "        \n",
    "        return L\n",
    "\n",
    "    def __iter__(self): \n",
    "        return self \n",
    "    \n",
    "    def __next__(self): \n",
    "        \n",
    "    \n",
    "        if self.head.next is None : \n",
    "            raise  StopIteration\n",
    "        \n",
    "        else :\n",
    "            res = self.head.data \n",
    "            self.head  = self.head.next \n",
    "            return res \n",
    "\n",
    "    \n",
    "    def afficher(self): \n",
    "        this_node = self.head\n",
    "        while this_node.next is not None: \n",
    "            print(this_node.data, end=\"-->\")\n",
    "            this_node = this_node.next\n",
    "        print(this_node.data, end=\"-->\")\n",
    "        print(\"None\")\n",
    "\n",
    "\n",
    "\n"
   ]
  },
  {
   "cell_type": "code",
   "execution_count": null,
   "metadata": {},
   "outputs": [],
   "source": []
  },
  {
   "cell_type": "code",
   "execution_count": 88,
   "metadata": {},
   "outputs": [
    {
     "name": "stdout",
     "output_type": "stream",
     "text": [
      "5-->9-->5-->4-->3-->None\n"
     ]
    }
   ],
   "source": [
    "liste.afficher()"
   ]
  },
  {
   "cell_type": "code",
   "execution_count": 89,
   "metadata": {},
   "outputs": [
    {
     "name": "stdout",
     "output_type": "stream",
     "text": [
      "3-->4-->5-->9-->5-->None\n"
     ]
    }
   ],
   "source": [
    "liste.copy().afficher()"
   ]
  },
  {
   "cell_type": "code",
   "execution_count": 60,
   "metadata": {},
   "outputs": [
    {
     "data": {
      "text/plain": [
       "<__main__.LinkedList at 0x10a5842e0>"
      ]
     },
     "execution_count": 60,
     "metadata": {},
     "output_type": "execute_result"
    }
   ],
   "source": []
  },
  {
   "cell_type": "code",
   "execution_count": 72,
   "metadata": {},
   "outputs": [],
   "source": [
    "class Node :\n",
    "   def __init__(self,data, next_node):\n",
    "       self.data = data \n",
    "       self.next_node = next_node \n"
   ]
  },
  {
   "cell_type": "code",
   "execution_count": 75,
   "metadata": {},
   "outputs": [],
   "source": [
    "L = Node(2, None)"
   ]
  },
  {
   "cell_type": "code",
   "execution_count": 19,
   "metadata": {},
   "outputs": [],
   "source": [
    "class T: \n",
    "    def __init__(self, pv, nom): \n",
    "        self.__pv = pv \n",
    "        self.nom = nom \n",
    "    \n",
    "    @property\n",
    "    def pv(self): \n",
    "        print(\"getter\")\n",
    "        return self.__pv \n",
    "    \n",
    "    @pv.setter\n",
    "    def pv(self, value): \n",
    "        print(\"setter\")\n",
    "        self.__pv = value \n",
    "       "
   ]
  },
  {
   "cell_type": "code",
   "execution_count": 20,
   "metadata": {},
   "outputs": [],
   "source": [
    "a = T(2, \"a\")"
   ]
  },
  {
   "cell_type": "code",
   "execution_count": 21,
   "metadata": {},
   "outputs": [
    {
     "name": "stdout",
     "output_type": "stream",
     "text": [
      "setter\n"
     ]
    }
   ],
   "source": [
    "a.pv = 3"
   ]
  },
  {
   "cell_type": "code",
   "execution_count": 33,
   "metadata": {},
   "outputs": [],
   "source": [
    "class Phrase: \n",
    "    def __init__(self, mot): \n",
    "        self.mot = mot.split()\n",
    "    \n",
    "    def dans (self, v):\n",
    "        return v in self.mot "
   ]
  },
  {
   "cell_type": "code",
   "execution_count": 34,
   "metadata": {},
   "outputs": [],
   "source": [
    "ob = Phrase(\"je fais un mooc\")"
   ]
  },
  {
   "cell_type": "code",
   "execution_count": 35,
   "metadata": {},
   "outputs": [
    {
     "data": {
      "text/plain": [
       "True"
      ]
     },
     "execution_count": 35,
     "metadata": {},
     "output_type": "execute_result"
    }
   ],
   "source": [
    "ob.dans(\"mooc\")"
   ]
  },
  {
   "cell_type": "code",
   "execution_count": 38,
   "metadata": {},
   "outputs": [],
   "source": [
    "class PhraseSansCasse(Phrase): \n",
    "    \n",
    "    pass  "
   ]
  },
  {
   "cell_type": "code",
   "execution_count": 39,
   "metadata": {},
   "outputs": [],
   "source": [
    "obj2 = PhraseSansCasse(\"je fais un cours de python\")"
   ]
  },
  {
   "cell_type": "code",
   "execution_count": 32,
   "metadata": {},
   "outputs": [
    {
     "data": {
      "text/plain": [
       "False"
      ]
     },
     "execution_count": 32,
     "metadata": {},
     "output_type": "execute_result"
    }
   ],
   "source": [
    "\"mooc\" in obj2 "
   ]
  },
  {
   "cell_type": "code",
   "execution_count": 40,
   "metadata": {},
   "outputs": [
    {
     "data": {
      "text/plain": [
       "False"
      ]
     },
     "execution_count": 40,
     "metadata": {},
     "output_type": "execute_result"
    }
   ],
   "source": [
    "obj2.dans(\"MOOC\")"
   ]
  },
  {
   "cell_type": "code",
   "execution_count": 50,
   "metadata": {},
   "outputs": [],
   "source": [
    "class Personne : \n",
    "    def __init__(self, nom, prenom):\n",
    "        self.nom = nom\n",
    "        self.prenom = prenom \n",
    "    \n",
    "    def afficher(self):\n",
    "        return f\"{self.prenom} {self.nom}\" \n",
    "\n",
    "\n",
    "class Client(Personne):\n",
    "    def __init__(self, nom, prenom, num_compte): \n",
    "        Personne.__init__(self, nom, prenom)\n",
    "        self.num = num_compte \n",
    "    \n",
    "    def afficher(self):\n",
    "        return f\" prenom = {self.prenom}, nom={self.nom} numero = {self.num_compte}\""
   ]
  },
  {
   "cell_type": "code",
   "execution_count": 51,
   "metadata": {},
   "outputs": [],
   "source": [
    "pers = Personne(\"SY\", \"Ibrahima\")"
   ]
  },
  {
   "cell_type": "code",
   "execution_count": 52,
   "metadata": {},
   "outputs": [],
   "source": [
    "pers2 = Client(\"SY\", \"Ibrahima\",\"1233\")"
   ]
  },
  {
   "cell_type": "code",
   "execution_count": 53,
   "metadata": {},
   "outputs": [
    {
     "data": {
      "text/plain": [
       "'Ibrahima SY'"
      ]
     },
     "execution_count": 53,
     "metadata": {},
     "output_type": "execute_result"
    }
   ],
   "source": [
    "pers.afficher()"
   ]
  },
  {
   "cell_type": "code",
   "execution_count": null,
   "metadata": {},
   "outputs": [],
   "source": [
    "per"
   ]
  }
 ],
 "metadata": {
  "interpreter": {
   "hash": "ae728774eee256562aff2651c76309c3916f29437b55f618701e1f4834ebef1b"
  },
  "kernelspec": {
   "display_name": "Python 3.9.7 ('env_tensorflow')",
   "language": "python",
   "name": "python3"
  },
  "language_info": {
   "codemirror_mode": {
    "name": "ipython",
    "version": 3
   },
   "file_extension": ".py",
   "mimetype": "text/x-python",
   "name": "python",
   "nbconvert_exporter": "python",
   "pygments_lexer": "ipython3",
   "version": "3.9.7"
  },
  "orig_nbformat": 4
 },
 "nbformat": 4,
 "nbformat_minor": 2
}
