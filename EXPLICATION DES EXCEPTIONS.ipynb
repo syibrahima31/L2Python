{
 "cells": [
  {
   "cell_type": "code",
   "execution_count": 70,
   "id": "210faf7f-c631-4f66-b965-99b71d44d135",
   "metadata": {},
   "outputs": [],
   "source": [
    "a = 1 \n",
    "b = 2  \n",
    "c = 0 \n",
    "var_else = 0 "
   ]
  },
  {
   "cell_type": "code",
   "execution_count": 71,
   "id": "50891e36-5c41-4eea-9eda-a26aa49ab37d",
   "metadata": {},
   "outputs": [],
   "source": [
    "try : \n",
    "    a / b\n",
    "     \n",
    "    \n",
    "except ZeroDivisionError as e  : \n",
    "    print(e)\n",
    "\n",
    "else : \n",
    "    var_else = 1000\n",
    "    \n",
    "finally:\n",
    "    c = 1 \n"
   ]
  },
  {
   "cell_type": "code",
   "execution_count": 72,
   "id": "48f134ab-d8e7-4423-b693-b88608c70f28",
   "metadata": {},
   "outputs": [
    {
     "data": {
      "text/plain": [
       "1000"
      ]
     },
     "execution_count": 72,
     "metadata": {},
     "output_type": "execute_result"
    }
   ],
   "source": [
    "var_else"
   ]
  },
  {
   "cell_type": "code",
   "execution_count": 78,
   "id": "7c1a2e20-9c8c-40ef-a563-ce1ef7990b5b",
   "metadata": {},
   "outputs": [],
   "source": [
    "class RacineC(Exception): \n",
    "    pass "
   ]
  },
  {
   "cell_type": "code",
   "execution_count": 79,
   "id": "2e0d0199-6ee0-4623-abee-62e41beb3118",
   "metadata": {},
   "outputs": [],
   "source": [
    "def racine_carre(x): \n",
    "    if x >=0 : \n",
    "        return x**(0.5) \n",
    "    else : \n",
    "        raise RacineC(\"on peut calculer une racine negative\")"
   ]
  },
  {
   "cell_type": "code",
   "execution_count": 80,
   "id": "d70432fd-e25b-4b38-961e-8feccab2702f",
   "metadata": {},
   "outputs": [
    {
     "ename": "RacineC",
     "evalue": "on peut calculer une racine negative",
     "output_type": "error",
     "traceback": [
      "\u001b[0;31m---------------------------------------------------------------------------\u001b[0m",
      "\u001b[0;31mRacineC\u001b[0m                                   Traceback (most recent call last)",
      "\u001b[0;32m/var/folders/sq/462l7_3n27v2bh21r8_xxnkh0000gn/T/ipykernel_87921/576567935.py\u001b[0m in \u001b[0;36m<module>\u001b[0;34m\u001b[0m\n\u001b[0;32m----> 1\u001b[0;31m \u001b[0mracine_carre\u001b[0m\u001b[0;34m(\u001b[0m\u001b[0;34m-\u001b[0m\u001b[0;36m4\u001b[0m\u001b[0;34m)\u001b[0m\u001b[0;34m\u001b[0m\u001b[0;34m\u001b[0m\u001b[0m\n\u001b[0m",
      "\u001b[0;32m/var/folders/sq/462l7_3n27v2bh21r8_xxnkh0000gn/T/ipykernel_87921/1992078259.py\u001b[0m in \u001b[0;36mracine_carre\u001b[0;34m(x)\u001b[0m\n\u001b[1;32m      3\u001b[0m         \u001b[0;32mreturn\u001b[0m \u001b[0mx\u001b[0m\u001b[0;34m**\u001b[0m\u001b[0;34m(\u001b[0m\u001b[0;36m0.5\u001b[0m\u001b[0;34m)\u001b[0m\u001b[0;34m\u001b[0m\u001b[0;34m\u001b[0m\u001b[0m\n\u001b[1;32m      4\u001b[0m     \u001b[0;32melse\u001b[0m \u001b[0;34m:\u001b[0m\u001b[0;34m\u001b[0m\u001b[0;34m\u001b[0m\u001b[0m\n\u001b[0;32m----> 5\u001b[0;31m         \u001b[0;32mraise\u001b[0m \u001b[0mRacineC\u001b[0m\u001b[0;34m(\u001b[0m\u001b[0;34m\"on peut calculer une racine negative\"\u001b[0m\u001b[0;34m)\u001b[0m\u001b[0;34m\u001b[0m\u001b[0;34m\u001b[0m\u001b[0m\n\u001b[0m",
      "\u001b[0;31mRacineC\u001b[0m: on peut calculer une racine negative"
     ]
    }
   ],
   "source": [
    "racine_carre(-4)"
   ]
  },
  {
   "cell_type": "code",
   "execution_count": 82,
   "id": "ed756f80-3909-469a-b7c9-ddf8e01ecea3",
   "metadata": {},
   "outputs": [
    {
     "data": {
      "text/plain": [
       "Exception()"
      ]
     },
     "execution_count": 82,
     "metadata": {},
     "output_type": "execute_result"
    }
   ],
   "source": [
    " Exception()"
   ]
  },
  {
   "cell_type": "code",
   "execution_count": null,
   "id": "83525d1e-45c5-43bf-bd09-26cb9409a271",
   "metadata": {},
   "outputs": [],
   "source": []
  }
 ],
 "metadata": {
  "kernelspec": {
   "display_name": "Python 3 (ipykernel)",
   "language": "python",
   "name": "python3"
  },
  "language_info": {
   "codemirror_mode": {
    "name": "ipython",
    "version": 3
   },
   "file_extension": ".py",
   "mimetype": "text/x-python",
   "name": "python",
   "nbconvert_exporter": "python",
   "pygments_lexer": "ipython3",
   "version": "3.9.7"
  }
 },
 "nbformat": 4,
 "nbformat_minor": 5
}
