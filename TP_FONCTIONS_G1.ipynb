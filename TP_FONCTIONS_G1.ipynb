{
 "cells": [
  {
   "cell_type": "code",
   "execution_count": 8,
   "metadata": {},
   "outputs": [],
   "source": [
    "def isADN(c): \n",
    "    if c in \"AGCT\": \n",
    "        return True \n",
    "    return False "
   ]
  },
  {
   "cell_type": "markdown",
   "metadata": {},
   "source": []
  },
  {
   "cell_type": "code",
   "execution_count": 13,
   "metadata": {},
   "outputs": [],
   "source": [
    "sequence = \"ACGTTTATA\"*400"
   ]
  },
  {
   "cell_type": "code",
   "execution_count": 53,
   "metadata": {},
   "outputs": [],
   "source": [
    "#sequence "
   ]
  },
  {
   "cell_type": "code",
   "execution_count": 22,
   "metadata": {},
   "outputs": [],
   "source": [
    "def test(sequence): \n",
    "\n",
    "    if sequence == \"\": \n",
    "        return True\n",
    "\n",
    "    else:\n",
    "        return isADN(sequence[0]) and  test(sequence[1:])\n",
    "\n",
    "\n"
   ]
  },
  {
   "cell_type": "code",
   "execution_count": 25,
   "metadata": {},
   "outputs": [
    {
     "data": {
      "text/plain": [
       "True"
      ]
     },
     "execution_count": 25,
     "metadata": {},
     "output_type": "execute_result"
    }
   ],
   "source": [
    "test(\"ACGT\"*30 )"
   ]
  },
  {
   "cell_type": "code",
   "execution_count": 51,
   "metadata": {},
   "outputs": [
    {
     "data": {
      "text/plain": [
       "'ACGTEACGTEACGTEACGTEACGTEACGTEACGTEACGTEACGTEACGTEACGTEACGTEACGTEACGTEACGTEACGTEACGTEACGTEACGTEACGTEACGTEACGTEACGTEACGTEACGTEACGTEACGTEACGTEACGTEACGTEACGTEACGTEACGTEACGTEACGTEACGTEACGTEACGTEACGTEACGTEACGTEACGTEACGTEACGTEACGTEACGTEACGTEACGTEACGTEACGTEACGTEACGTEACGTEACGTEACGTEACGTEACGTEACGTEACGTEACGTEACGTEACGTEACGTEACGTEACGTEACGTEACGTEACGTEACGTEACGTEACGTEACGTEACGTEACGTEACGTEACGTEACGTEACGTEACGTEACGTEACGTEACGTEACGTEACGTEACGTEACGTEACGTEACGTEACGTEACGTEACGTEACGTEACGTEACGTEACGTEACGTEACGTEACGTEACGTEACGTEACGTEACGTEACGTEACGTEACGTEACGTEACGTEACGTEACGTEACGTEACGTEACGTEACGTEACGTEACGTEACGTEACGTEACGTEACGTEACGTEACGTEACGTEACGTEACGTEACGTEACGTEACGTEACGTEACGTEACGTEACGTEACGTEACGTEACGTEACGTEACGTEACGTEACGTEACGTEACGTEACGTEACGTEACGTEACGTEACGTEACGTEACGTEACGTEACGTEACGTEACGTEACGTEACGTEACGTEACGTEACGTEACGTEACGTEACGTEACGTEACGTEACGTEACGTEACGTEACGTEACGTEACGTEACGTEACGTEACGTEACGTEACGTEACGTEACGTEACGTEACGTEACGTEACGTEACGTEACGTEACGTEACGTEACGTEACGTEACGTEACGTEACGTEACGTEACGTEACGTEACGTEACGTEACGTEACGTEACGTEACGTEACGTEACGTEACGTEACGTEACGTEACGTEACGTEACGTEACGTEACGTEACGTEACGTEACGTEACGTEACGTEACGTEACGTEACGTEACGTEACGTEACGTEACGTEACGTEACGTEACGTEACGTEACGTEACGTEACGTEACGTEACGTEACGTEACGTEACGTEACGTEACGTEACGTEACGTEACGTEACGTEACGTEACGTEACGTEACGTEACGTEACGTEACGTEACGTEACGTEACGTEACGTEACGTEACGTEACGTEACGTEACGTEACGTEACGTEACGTEACGTEACGTEACGTEACGTEACGTEACGTEACGTEACGTEACGTEACGTEACGTEACGTEACGTEACGTEACGTEACGTEACGTEACGTEACGTEACGTEACGTEACGTEACGTEACGTEACGTEACGTEACGTEACGTEACGTEACGTEACGTEACGTEACGTEACGTEACGTEACGTEACGTEACGTEACGTEACGTEACGTEACGTEACGTEACGTEACGTEACGTEACGTEACGTEACGTEACGTEACGTEACGTEACGTEACGTEACGTEACGTEACGTEACGTEACGTEACGTEACGTEACGTEACGTEACGTEACGTEACGTEACGTEACGTEACGTEACGTEACGTEACGTEACGTEACGTEACGTEACGTEACGTEACGTEACGTEACGTEACGTEACGTEACGTEACGTEACGTEACGTEACGTEACGTEACGTEACGTEACGTEACGTEACGTEACGTEACGTEACGTEACGTEACGTEACGTEACGTEACGTEACGTEACGTEACGTEACGTEACGTEACGTEACGTEACGTEACGTEACGTEACGTEACGTEACGTEACGTEACGTEACGTEACGTEACGTEACGTEACGTEACGTEACGTEACGTEACGTEACGTEACGTEACGTEACGTEACGTEACGTEACGTEACGTEACGTEACGTEACGTEACGTEACGTEACGTEACGTEACGTEACGTEACGTEACGTEACGTEACGTEACGTEACGTEACGTEACGTEACGTEACGTEACGTEACGTEACGTEACGTEACGTEACGTEACGTEACGTEACGTEACGTEACGTEACGTEACGTEACGTEACGTEACGTEACGTEACGTEACGTEACGTEACGTEACGTEACGTEACGTEACGTEACGTEACGTEACGTEACGTEACGTEACGTEACGTEACGTEACGTEACGTEACGTEACGTEACGTEACGTEACGTEACGTEACGTEACGTEACGTEACGTEACGTEACGTEACGTEACGTEACGTEACGTEACGTEACGTEACGTEACGTEACGTEACGTEACGTEACGTEACGTEACGTEACGTEACGTEACGTEACGTEACGTEACGTEACGTEACGTEACGTEACGTEACGTEACGTEACGTEACGTEACGTEACGTEACGTEACGTEACGTEACGTEACGTEACGTEACGTEACGTEACGTEACGTEACGTEACGTEACGTEACGTEACGTEACGTE'"
      ]
     },
     "execution_count": 51,
     "metadata": {},
     "output_type": "execute_result"
    }
   ],
   "source": [
    "chaine = \"ACGTE\"* 500\n",
    "\n",
    "chaine "
   ]
  },
  {
   "cell_type": "code",
   "execution_count": 52,
   "metadata": {},
   "outputs": [
    {
     "name": "stdout",
     "output_type": "stream",
     "text": [
      "False\n"
     ]
    }
   ],
   "source": [
    "try : \n",
    "    print(test(chaine))\n",
    "except RecursionError : \n",
    "    print(\"nombre maximum de recursion atteint\")"
   ]
  },
  {
   "cell_type": "code",
   "execution_count": 54,
   "metadata": {},
   "outputs": [],
   "source": [
    "L = [2,3,4]"
   ]
  },
  {
   "cell_type": "code",
   "execution_count": 55,
   "metadata": {},
   "outputs": [],
   "source": [
    "L.reverse()"
   ]
  },
  {
   "cell_type": "code",
   "execution_count": 56,
   "metadata": {},
   "outputs": [
    {
     "data": {
      "text/plain": [
       "[4, 3, 2]"
      ]
     },
     "execution_count": 56,
     "metadata": {},
     "output_type": "execute_result"
    }
   ],
   "source": [
    "L "
   ]
  },
  {
   "cell_type": "code",
   "execution_count": 57,
   "metadata": {},
   "outputs": [],
   "source": [
    "def f(x): \n",
    "    import math \n",
    "\n",
    "    num = (2*x**3 + 3)*(x**2 -1)\n",
    "    denom = math.sqrt(3*x**2 + 1)\n",
    "    return num / denom "
   ]
  },
  {
   "cell_type": "code",
   "execution_count": 59,
   "metadata": {},
   "outputs": [],
   "source": [
    "def f_prime(x, h= 0.001):\n",
    "    return (f(x+h) - f(x-h))/ (2*h)"
   ]
  },
  {
   "cell_type": "code",
   "execution_count": 60,
   "metadata": {},
   "outputs": [
    {
     "data": {
      "text/plain": [
       "33.75138280174195"
      ]
     },
     "execution_count": 60,
     "metadata": {},
     "output_type": "execute_result"
    }
   ],
   "source": [
    "f_prime(2)"
   ]
  },
  {
   "cell_type": "code",
   "execution_count": 69,
   "metadata": {},
   "outputs": [],
   "source": [
    "def f_second(x, h=0.001): \n",
    "    return (f_prime(x+h) - f_prime(x-h))/ (2*h)\n"
   ]
  },
  {
   "cell_type": "code",
   "execution_count": 70,
   "metadata": {},
   "outputs": [],
   "source": [
    "import pandas as pd \n",
    "import seaborn as sns \n"
   ]
  },
  {
   "cell_type": "code",
   "execution_count": 80,
   "metadata": {},
   "outputs": [],
   "source": [
    "class List: \n",
    "    def __init__(self, *args):\n",
    "        for i in args:\n",
    "            print(i)"
   ]
  },
  {
   "cell_type": "code",
   "execution_count": 81,
   "metadata": {},
   "outputs": [
    {
     "name": "stdout",
     "output_type": "stream",
     "text": [
      "1\n",
      "3\n"
     ]
    }
   ],
   "source": [
    "a = List(1,3)"
   ]
  },
  {
   "cell_type": "code",
   "execution_count": 78,
   "metadata": {},
   "outputs": [
    {
     "data": {
      "text/plain": [
       "tuple"
      ]
     },
     "execution_count": 78,
     "metadata": {},
     "output_type": "execute_result"
    }
   ],
   "source": [
    "type(a.liste )"
   ]
  },
  {
   "cell_type": "code",
   "execution_count": null,
   "metadata": {},
   "outputs": [],
   "source": []
  }
 ],
 "metadata": {
  "interpreter": {
   "hash": "ae728774eee256562aff2651c76309c3916f29437b55f618701e1f4834ebef1b"
  },
  "kernelspec": {
   "display_name": "Python 3.9.7 ('env_tensorflow')",
   "language": "python",
   "name": "python3"
  },
  "language_info": {
   "codemirror_mode": {
    "name": "ipython",
    "version": 3
   },
   "file_extension": ".py",
   "mimetype": "text/x-python",
   "name": "python",
   "nbconvert_exporter": "python",
   "pygments_lexer": "ipython3",
   "version": "3.9.7"
  },
  "orig_nbformat": 4
 },
 "nbformat": 4,
 "nbformat_minor": 2
}
