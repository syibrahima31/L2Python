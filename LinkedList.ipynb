{
 "cells": [
  {
   "cell_type": "code",
   "execution_count": 104,
   "metadata": {},
   "outputs": [],
   "source": [
    "class Node:\n",
    "    def __init__(self, data, next_node):\n",
    "        self.data = data \n",
    "        self.next = next_node \n",
    "\n",
    "\n",
    "class LinkedList: \n",
    "    def __init__(self):\n",
    "        self.head = None \n",
    "    \n",
    "\n",
    "    def append(self,v): \n",
    "        self.head = Node(v, self.head)\n",
    "\n",
    "\n",
    "    def copy(self): \n",
    "        this_node =self.head \n",
    "        new_head = None \n",
    "\n",
    "        new_head = Node(this_node.data, None)\n",
    "        this_node = this_node.next \n",
    "\n",
    "        while this_node.next  is not None: \n",
    "            new_head = Node(this_node.data, new_head)\n",
    "            this_node = this_node.next \n",
    "\n",
    "        new_head = Node(this_node.data, new_head)\n",
    "        \n",
    "        L = LinkedList()\n",
    "        L.head = new_head\n",
    "        return L \n",
    "\n",
    "\n",
    "    \n",
    "\n",
    "    def afficher(self): \n",
    "        this_node = self.head\n",
    "        while this_node.next is not None: \n",
    "            print(this_node.data, end=\"-->\")\n",
    "            this_node = this_node.next\n",
    "        print(this_node.data, end=\"-->\")\n",
    "        print(\"None\")\n",
    "\n",
    "    \n",
    "    \n",
    "\n",
    "\n"
   ]
  },
  {
   "cell_type": "code",
   "execution_count": 105,
   "metadata": {},
   "outputs": [],
   "source": [
    "liste = LinkedList()\n",
    "liste.append(3)\n",
    "liste.append(4)\n",
    "liste.append(5)\n",
    "liste.append(9)\n",
    "liste.append(5)"
   ]
  },
  {
   "cell_type": "code",
   "execution_count": 106,
   "metadata": {},
   "outputs": [
    {
     "name": "stdout",
     "output_type": "stream",
     "text": [
      "5-->9-->5-->4-->3-->None\n"
     ]
    }
   ],
   "source": [
    "liste.afficher()"
   ]
  },
  {
   "cell_type": "code",
   "execution_count": 107,
   "metadata": {},
   "outputs": [],
   "source": [
    "L_copy = liste.copy()"
   ]
  },
  {
   "cell_type": "code",
   "execution_count": 108,
   "metadata": {},
   "outputs": [
    {
     "name": "stdout",
     "output_type": "stream",
     "text": [
      "3-->4-->5-->9-->5-->None\n"
     ]
    }
   ],
   "source": [
    "L_copy.afficher()"
   ]
  },
  {
   "cell_type": "code",
   "execution_count": 109,
   "metadata": {},
   "outputs": [
    {
     "ename": "NameError",
     "evalue": "name 'ajout' is not defined",
     "output_type": "error",
     "traceback": [
      "\u001b[0;31m---------------------------------------------------------------------------\u001b[0m",
      "\u001b[0;31mNameError\u001b[0m                                 Traceback (most recent call last)",
      "\u001b[0;32m/var/folders/sq/462l7_3n27v2bh21r8_xxnkh0000gn/T/ipykernel_75101/2152909540.py\u001b[0m in \u001b[0;36m<module>\u001b[0;34m\u001b[0m\n\u001b[0;32m----> 1\u001b[0;31m \u001b[0;34m@\u001b[0m\u001b[0majout\u001b[0m\u001b[0;34m\u001b[0m\u001b[0;34m\u001b[0m\u001b[0m\n\u001b[0m\u001b[1;32m      2\u001b[0m \u001b[0;32mdef\u001b[0m \u001b[0mf\u001b[0m\u001b[0;34m(\u001b[0m\u001b[0ma\u001b[0m\u001b[0;34m)\u001b[0m\u001b[0;34m:\u001b[0m\u001b[0;34m\u001b[0m\u001b[0;34m\u001b[0m\u001b[0m\n\u001b[1;32m      3\u001b[0m     \u001b[0;32mreturn\u001b[0m \u001b[0mx\u001b[0m\u001b[0;34m\u001b[0m\u001b[0;34m\u001b[0m\u001b[0m\n",
      "\u001b[0;31mNameError\u001b[0m: name 'ajout' is not defined"
     ]
    }
   ],
   "source": [
    "@ajout \n",
    "def f(a):\n",
    "    return x \n"
   ]
  },
  {
   "cell_type": "code",
   "execution_count": 134,
   "metadata": {},
   "outputs": [],
   "source": [
    "import time \n",
    "def Timer(f): \n",
    "    def decorateur(): \n",
    "        start = time.time()\n",
    "        res = f()\n",
    "\n",
    "        end = time.time()\n",
    "\n",
    "        print(f\"L'apple de {f.__name__} a duree : {end-start}\")\n",
    "        return res \n",
    "     \n",
    "    return decorateur\n"
   ]
  },
  {
   "cell_type": "code",
   "execution_count": 135,
   "metadata": {},
   "outputs": [],
   "source": [
    "@Timer \n",
    "def f(): \n",
    "    return sum(x**2 for x in range(1000))\n",
    "    "
   ]
  },
  {
   "cell_type": "code",
   "execution_count": 136,
   "metadata": {},
   "outputs": [
    {
     "name": "stdout",
     "output_type": "stream",
     "text": [
      "L'apple de f a duree : 0.00021505355834960938\n"
     ]
    },
    {
     "data": {
      "text/plain": [
       "332833500"
      ]
     },
     "execution_count": 136,
     "metadata": {},
     "output_type": "execute_result"
    }
   ],
   "source": [
    "f()"
   ]
  },
  {
   "cell_type": "code",
   "execution_count": null,
   "metadata": {},
   "outputs": [],
   "source": []
  },
  {
   "cell_type": "code",
   "execution_count": null,
   "metadata": {},
   "outputs": [],
   "source": []
  }
 ],
 "metadata": {
  "interpreter": {
   "hash": "ae728774eee256562aff2651c76309c3916f29437b55f618701e1f4834ebef1b"
  },
  "kernelspec": {
   "display_name": "Python 3.9.7 ('env_tensorflow')",
   "language": "python",
   "name": "python3"
  },
  "language_info": {
   "codemirror_mode": {
    "name": "ipython",
    "version": 3
   },
   "file_extension": ".py",
   "mimetype": "text/x-python",
   "name": "python",
   "nbconvert_exporter": "python",
   "pygments_lexer": "ipython3",
   "version": "3.9.7"
  },
  "orig_nbformat": 4
 },
 "nbformat": 4,
 "nbformat_minor": 2
}
