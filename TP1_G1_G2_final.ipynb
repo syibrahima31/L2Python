{
 "cells": [
  {
   "cell_type": "markdown",
   "id": "ae9ee6be-446e-45b7-a04f-793199ae79a2",
   "metadata": {},
   "source": [
    "### TP1 : Type et Instrucition de base \n",
    "\n",
    " <br/> \n",
    " \n",
    "#### Exercice 1 : "
   ]
  },
  {
   "cell_type": "code",
   "execution_count": 39,
   "id": "cb6c7383-9434-4a69-aefd-cf29b936321e",
   "metadata": {},
   "outputs": [
    {
     "name": "stdout",
     "output_type": "stream",
     "text": [
      "la vitesse est de 2.9\n"
     ]
    }
   ],
   "source": [
    "# creation des variables \n",
    "\n",
    "temps = 6.892 \n",
    "distance = 19.7 \n",
    "\n",
    "# autre type daffectation \n",
    "\n",
    "# temps, distance = 6.892 , 19.7 \n",
    "\n",
    "# calcul de la vitesse \n",
    "vitesse = distance / temps \n",
    "\n",
    "# utilisation de la fonction print \n",
    "\n",
    "print(f\"la vitesse est de {vitesse:.1f}\") \n"
   ]
  },
  {
   "cell_type": "markdown",
   "id": "f3d0e280-4746-4b19-8646-0fd45ad46ea1",
   "metadata": {},
   "source": [
    "### Exercice 2 \n",
    "<br/> \n",
    "\n",
    "définition de la fonction aire_disque "
   ]
  },
  {
   "cell_type": "code",
   "execution_count": 43,
   "id": "f54dc800-43f4-4b59-8722-bde07a6f88cf",
   "metadata": {},
   "outputs": [],
   "source": [
    "import math \n",
    "\n",
    "def aire_disque(r): \n",
    "    \"\"\"\n",
    "    cette fonction calcule l'aire d' un disque \n",
    "    \n",
    "    parameters :\n",
    "    -----------\n",
    "    r : c'est de votre disque \n",
    "    \n",
    "    return: \n",
    "    --------\n",
    "    cette fonction retourne la skurface de votre dsique \n",
    "    \n",
    "    \"\"\"\n",
    "    surface  =  math.pi *  (r**2)\n",
    "    \n",
    "    return surface \n",
    "    \n",
    "    \n",
    "    "
   ]
  },
  {
   "cell_type": "code",
   "execution_count": 55,
   "id": "64aae105-f310-4416-ac7f-6330c0f8322d",
   "metadata": {},
   "outputs": [],
   "source": [
    "assert aire_disque(3) ==  28.274333882308138 "
   ]
  },
  {
   "cell_type": "code",
   "execution_count": 64,
   "id": "438c9cb9-ecf3-438b-9fbc-82fb365b3916",
   "metadata": {},
   "outputs": [],
   "source": [
    "def aire_courone(r_1, r_2 ): \n",
    "    return aire_disque(r_2) - aire_disque(r_1)"
   ]
  },
  {
   "cell_type": "code",
   "execution_count": 65,
   "id": "24bc0e7a-757d-46c1-89dc-431c1afde42f",
   "metadata": {},
   "outputs": [
    {
     "data": {
      "text/plain": [
       "37.69911184307752"
      ]
     },
     "execution_count": 65,
     "metadata": {},
     "output_type": "execute_result"
    }
   ],
   "source": [
    "aire_courone(2, 4)"
   ]
  },
  {
   "cell_type": "code",
   "execution_count": 66,
   "id": "8e78960d-2406-4075-ad69-f48ac720436c",
   "metadata": {},
   "outputs": [],
   "source": [
    "assert aire_courone(2, 4) == 37.69911184307752"
   ]
  },
  {
   "cell_type": "markdown",
   "id": "5917eee3-97d5-444c-9040-61f55b0a45f1",
   "metadata": {},
   "source": [
    "### Exercice 3 \n",
    "\n",
    "<br/>"
   ]
  },
  {
   "cell_type": "code",
   "execution_count": 70,
   "id": "fbcd253e-080a-4f14-aa90-e9a1d73afe06",
   "metadata": {},
   "outputs": [
    {
     "name": "stdin",
     "output_type": "stream",
     "text": [
      "Donner votre nom : ibrahima \n",
      "Donner votre age : 28\n"
     ]
    }
   ],
   "source": [
    "nom = input(\"Donner votre nom :\" )\n",
    "age = int(input(\"Donner votre age :\" )) "
   ]
  },
  {
   "cell_type": "code",
   "execution_count": 78,
   "id": "d4a0f710-fe2f-4068-b1ec-fe4d33576406",
   "metadata": {},
   "outputs": [
    {
     "name": "stdout",
     "output_type": "stream",
     "text": [
      "le nom de l'utilisateur :  ibrahima \n",
      "l' age  de l'utilisateur :  28 ans \n"
     ]
    }
   ],
   "source": [
    "print(f\"le nom de l'utilisateur :  {nom}\")\n",
    "print(f\"l' age  de l'utilisateur :  {age} ans \") "
   ]
  },
  {
   "cell_type": "markdown",
   "id": "f91eee47-4ebe-4bd5-abb5-1ee664e55298",
   "metadata": {},
   "source": [
    "### Exercice 4 "
   ]
  },
  {
   "cell_type": "code",
   "execution_count": 88,
   "id": "df85b6d4-2ce1-47be-bbcd-3363658d1959",
   "metadata": {},
   "outputs": [],
   "source": [
    "# creation de objet liste \n",
    "liste = [17, 38, 10, 25, 72]"
   ]
  },
  {
   "cell_type": "markdown",
   "id": "b4d02b3b-720c-4683-9b93-0d94c5315cef",
   "metadata": {},
   "source": [
    "> La fonction  `sorted` permet de faire un trie mais retourne un objet donc il faut sctocker avant de l' utiliser "
   ]
  },
  {
   "cell_type": "code",
   "execution_count": 93,
   "id": "1f7c5d37-eb2e-4e6d-b2ef-c8198397cf20",
   "metadata": {},
   "outputs": [
    {
     "data": {
      "text/plain": [
       "[10, 17, 25, 38, 72]"
      ]
     },
     "execution_count": 93,
     "metadata": {},
     "output_type": "execute_result"
    }
   ],
   "source": [
    "liste_trie = sorted(liste)"
   ]
  },
  {
   "cell_type": "markdown",
   "id": "21214bb7-04af-4c26-ab48-32c97cf907e3",
   "metadata": {},
   "source": [
    "> la méthode `sort` permet de faire un trie sur place , donc penser à copier  avant d'utiliser la méthode  "
   ]
  },
  {
   "cell_type": "code",
   "execution_count": 89,
   "id": "b18f3f1c-8c65-4e90-9fae-62ad53afdc5d",
   "metadata": {},
   "outputs": [],
   "source": [
    "import  copy \n",
    "\n",
    "liste_copie = copy.deepcopy(liste) "
   ]
  },
  {
   "cell_type": "code",
   "execution_count": 90,
   "id": "6b26bb8f-122f-49b9-b8e4-6649f7ff2cca",
   "metadata": {},
   "outputs": [],
   "source": [
    "liste.sort()"
   ]
  },
  {
   "cell_type": "code",
   "execution_count": 91,
   "id": "92ba356e-7e79-4646-9f98-9355db0871fd",
   "metadata": {},
   "outputs": [
    {
     "data": {
      "text/plain": [
       "[10, 17, 25, 38, 72]"
      ]
     },
     "execution_count": 91,
     "metadata": {},
     "output_type": "execute_result"
    }
   ],
   "source": [
    "liste "
   ]
  },
  {
   "cell_type": "code",
   "execution_count": 92,
   "id": "a48f99a6-60c2-4f59-87bf-66bbdfcaec96",
   "metadata": {},
   "outputs": [
    {
     "data": {
      "text/plain": [
       "[17, 38, 10, 25, 72]"
      ]
     },
     "execution_count": 92,
     "metadata": {},
     "output_type": "execute_result"
    }
   ],
   "source": [
    "liste_copie"
   ]
  },
  {
   "cell_type": "code",
   "execution_count": 95,
   "id": "9bb9c1d1-6a54-432b-9085-443e2c2df778",
   "metadata": {},
   "outputs": [],
   "source": [
    "liste.append(12) "
   ]
  },
  {
   "cell_type": "markdown",
   "id": "d980e9e4-df7c-4fb1-9fe5-9731e5e5eeb9",
   "metadata": {},
   "source": [
    "#### question 2 "
   ]
  },
  {
   "cell_type": "code",
   "execution_count": 96,
   "id": "b7243abb-048b-4170-b82f-4162656cbea8",
   "metadata": {},
   "outputs": [
    {
     "data": {
      "text/plain": [
       "[10, 17, 25, 38, 72, 12, 12]"
      ]
     },
     "execution_count": 96,
     "metadata": {},
     "output_type": "execute_result"
    }
   ],
   "source": [
    "liste "
   ]
  },
  {
   "cell_type": "markdown",
   "id": "b9e66180-f950-4b7a-9762-ac4c331c4efb",
   "metadata": {},
   "source": [
    "#### Question 3 "
   ]
  },
  {
   "cell_type": "code",
   "execution_count": 97,
   "id": "eac39a69-a561-4f79-b668-a70253aa7940",
   "metadata": {},
   "outputs": [],
   "source": [
    "liste.reverse()"
   ]
  },
  {
   "cell_type": "code",
   "execution_count": 98,
   "id": "a0c68603-8967-437a-bc0c-87f08bf93378",
   "metadata": {},
   "outputs": [
    {
     "data": {
      "text/plain": [
       "[12, 12, 72, 38, 25, 17, 10]"
      ]
     },
     "execution_count": 98,
     "metadata": {},
     "output_type": "execute_result"
    }
   ],
   "source": [
    "liste "
   ]
  },
  {
   "cell_type": "code",
   "execution_count": 99,
   "id": "f3527428-e699-4585-ac33-1f0afa519101",
   "metadata": {},
   "outputs": [
    {
     "data": {
      "text/plain": [
       "[10, 17, 25, 38, 72, 12, 12]"
      ]
     },
     "execution_count": 99,
     "metadata": {},
     "output_type": "execute_result"
    }
   ],
   "source": [
    "# liste[::-1]"
   ]
  },
  {
   "cell_type": "markdown",
   "id": "210dabe2-9318-4acd-94e0-6424204c2c64",
   "metadata": {},
   "source": [
    "#### Question 4 "
   ]
  },
  {
   "cell_type": "code",
   "execution_count": 101,
   "id": "cd34f27a-c0a1-4666-864a-9f7b1d2b2e1f",
   "metadata": {},
   "outputs": [
    {
     "data": {
      "text/plain": [
       "5"
      ]
     },
     "execution_count": 101,
     "metadata": {},
     "output_type": "execute_result"
    }
   ],
   "source": [
    "liste.index(17)"
   ]
  },
  {
   "cell_type": "markdown",
   "id": "a3e47b7c-42bd-42bc-a3c2-b848b62b7a1b",
   "metadata": {},
   "source": [
    "#### Question 5 "
   ]
  },
  {
   "cell_type": "code",
   "execution_count": 115,
   "id": "a419299e-af01-4a3e-81f4-049e8e6d26d5",
   "metadata": {},
   "outputs": [
    {
     "ename": "ValueError",
     "evalue": "38 is not in list",
     "output_type": "error",
     "traceback": [
      "\u001b[0;31m---------------------------------------------------------------------------\u001b[0m",
      "\u001b[0;31mValueError\u001b[0m                                Traceback (most recent call last)",
      "\u001b[0;32m/var/folders/sq/462l7_3n27v2bh21r8_xxnkh0000gn/T/ipykernel_95886/3952033256.py\u001b[0m in \u001b[0;36m<module>\u001b[0;34m\u001b[0m\n\u001b[0;32m----> 1\u001b[0;31m \u001b[0mliste\u001b[0m\u001b[0;34m[\u001b[0m\u001b[0mliste\u001b[0m\u001b[0;34m.\u001b[0m\u001b[0mindex\u001b[0m\u001b[0;34m(\u001b[0m\u001b[0;36m38\u001b[0m\u001b[0;34m)\u001b[0m\u001b[0;34m]\u001b[0m\u001b[0;34m\u001b[0m\u001b[0;34m\u001b[0m\u001b[0m\n\u001b[0m",
      "\u001b[0;31mValueError\u001b[0m: 38 is not in list"
     ]
    }
   ],
   "source": [
    "liste[liste.index(38)]"
   ]
  },
  {
   "cell_type": "code",
   "execution_count": 105,
   "id": "ab5e6f1f-94ae-4e08-93cd-d7ee935d5d54",
   "metadata": {},
   "outputs": [
    {
     "data": {
      "text/plain": [
       "[12, 12, 72, 25, 17, 10]"
      ]
     },
     "execution_count": 105,
     "metadata": {},
     "output_type": "execute_result"
    }
   ],
   "source": [
    "liste "
   ]
  },
  {
   "cell_type": "code",
   "execution_count": 107,
   "id": "fe9d720f-6ab0-4c15-816b-3f90b100ea07",
   "metadata": {},
   "outputs": [
    {
     "data": {
      "text/plain": [
       "[72, 25]"
      ]
     },
     "execution_count": 107,
     "metadata": {},
     "output_type": "execute_result"
    }
   ],
   "source": [
    "liste[2:4]"
   ]
  },
  {
   "cell_type": "code",
   "execution_count": 109,
   "id": "ad73f899-bf62-4488-a5f3-620606072ae0",
   "metadata": {},
   "outputs": [
    {
     "data": {
      "text/plain": [
       "[12, 12, 72]"
      ]
     },
     "execution_count": 109,
     "metadata": {},
     "output_type": "execute_result"
    }
   ],
   "source": [
    "liste[:3]"
   ]
  },
  {
   "cell_type": "code",
   "execution_count": 110,
   "id": "32a6dc0c-7674-4ec8-8814-fe0921db1c32",
   "metadata": {},
   "outputs": [
    {
     "data": {
      "text/plain": [
       "[25, 17, 10]"
      ]
     },
     "execution_count": 110,
     "metadata": {},
     "output_type": "execute_result"
    }
   ],
   "source": [
    "liste[3:]"
   ]
  },
  {
   "cell_type": "code",
   "execution_count": 111,
   "id": "99ef0b20-3a00-4f38-abaa-35d5abcf5f90",
   "metadata": {},
   "outputs": [
    {
     "data": {
      "text/plain": [
       "[12, 12, 72, 25, 17, 10]"
      ]
     },
     "execution_count": 111,
     "metadata": {},
     "output_type": "execute_result"
    }
   ],
   "source": [
    "liste[:]"
   ]
  },
  {
   "cell_type": "code",
   "execution_count": 112,
   "id": "cf6f61e5-9988-435d-b13b-1107aece2df5",
   "metadata": {},
   "outputs": [
    {
     "data": {
      "text/plain": [
       "10"
      ]
     },
     "execution_count": 112,
     "metadata": {},
     "output_type": "execute_result"
    }
   ],
   "source": [
    "liste[-1]"
   ]
  },
  {
   "cell_type": "markdown",
   "id": "9fe3a9f2-f80e-4089-8614-02349c74dde7",
   "metadata": {},
   "source": [
    "## Exrecice 5 \n",
    "\n",
    "<br/>"
   ]
  },
  {
   "cell_type": "code",
   "execution_count": 31,
   "id": "44a436d1-4d3a-49ca-b207-63f565cca4a4",
   "metadata": {},
   "outputs": [],
   "source": [
    "def first_last(c):\n",
    "    \"\"\"\n",
    "    parameters :\n",
    "    ----------\n",
    "        c : une chaine \n",
    "        \n",
    "    return : \n",
    "    ------\n",
    "        la fonction retourne un boolén True ou False \n",
    "    \"\"\"\n",
    "    return  ( len(c)== 0 ) or  (c[0]==c[-1])"
   ]
  },
  {
   "cell_type": "code",
   "execution_count": 34,
   "id": "58d833e1-55a4-4d1b-9f5b-9516fafa4cf9",
   "metadata": {},
   "outputs": [],
   "source": [
    "chaine = \"Tout\""
   ]
  },
  {
   "cell_type": "code",
   "execution_count": 35,
   "id": "aaeadd87-ad47-42ac-a6c4-5f425dd0391c",
   "metadata": {},
   "outputs": [
    {
     "data": {
      "text/plain": [
       "False"
      ]
     },
     "execution_count": 35,
     "metadata": {},
     "output_type": "execute_result"
    }
   ],
   "source": [
    "first_last(chaine) "
   ]
  },
  {
   "cell_type": "markdown",
   "id": "8a2c6648-8576-4729-8ec3-47c7de4c5a65",
   "metadata": {},
   "source": [
    "### Exrecice 6 "
   ]
  },
  {
   "cell_type": "code",
   "execution_count": 36,
   "id": "c1111074-53c6-49ed-984b-b68c802c4224",
   "metadata": {},
   "outputs": [],
   "source": [
    "ch = [\"a\", \"b\", \"c\", \"d\"]"
   ]
  },
  {
   "cell_type": "code",
   "execution_count": 44,
   "id": "e5a04ef6-b4c3-4d9a-8577-ceef8e8d07e9",
   "metadata": {},
   "outputs": [],
   "source": [
    "## Passage d'une liste vers une chaine de charactere \n",
    "chaine = \"-\".join(ch) "
   ]
  },
  {
   "cell_type": "code",
   "execution_count": 45,
   "id": "0675c3c0-9ce1-4299-91fc-2c1f5a4f35e0",
   "metadata": {},
   "outputs": [
    {
     "data": {
      "text/plain": [
       "'a-b-c-d'"
      ]
     },
     "execution_count": 45,
     "metadata": {},
     "output_type": "execute_result"
    }
   ],
   "source": [
    "chaine "
   ]
  },
  {
   "cell_type": "code",
   "execution_count": 46,
   "id": "a29e8167-80cc-442d-a1b9-7a833cc8d223",
   "metadata": {},
   "outputs": [],
   "source": [
    "#### Passage une chaine vers une liste "
   ]
  },
  {
   "cell_type": "code",
   "execution_count": 47,
   "id": "cd083865-54d3-47e5-a139-3c6911e7b14d",
   "metadata": {},
   "outputs": [
    {
     "data": {
      "text/plain": [
       "['a', 'b', 'c', 'd']"
      ]
     },
     "execution_count": 47,
     "metadata": {},
     "output_type": "execute_result"
    }
   ],
   "source": [
    "chaine.split(sep=\"-\")"
   ]
  },
  {
   "cell_type": "code",
   "execution_count": 48,
   "id": "da554db5-a76c-48fc-8fa4-600b6635fe2a",
   "metadata": {},
   "outputs": [],
   "source": [
    "ch = chaine.split(\"-\")"
   ]
  },
  {
   "cell_type": "markdown",
   "id": "9bc3cf4b-640a-42d6-a387-54f319af3f7b",
   "metadata": {},
   "source": [
    "### Exrecice 7 "
   ]
  },
  {
   "cell_type": "code",
   "execution_count": 66,
   "id": "e07a94c0-8450-40ce-8748-806087ab8b29",
   "metadata": {},
   "outputs": [],
   "source": [
    "def is_increasing(L):\n",
    "    return L==sorted(L)"
   ]
  },
  {
   "cell_type": "code",
   "execution_count": 68,
   "id": "d695c7ad-5b24-447a-8a19-26658cd981df",
   "metadata": {},
   "outputs": [],
   "source": [
    "L = [1,2,4,3]"
   ]
  },
  {
   "cell_type": "code",
   "execution_count": 70,
   "id": "3f32b7d1-baf0-4e20-a459-53a0079b72d9",
   "metadata": {},
   "outputs": [
    {
     "data": {
      "text/plain": [
       "False"
      ]
     },
     "execution_count": 70,
     "metadata": {},
     "output_type": "execute_result"
    }
   ],
   "source": [
    "is_increasing(L)"
   ]
  },
  {
   "cell_type": "markdown",
   "id": "28973eca-b894-470e-89b9-67af61d29103",
   "metadata": {},
   "source": [
    "## Exrecice 8 : \n",
    "\n",
    "<br />"
   ]
  },
  {
   "cell_type": "code",
   "execution_count": 71,
   "id": "a7a89e8c-0bed-409b-b276-a13befb16909",
   "metadata": {},
   "outputs": [],
   "source": [
    "truc = []\n",
    "\n",
    "machin = [0.0]* 5"
   ]
  },
  {
   "cell_type": "code",
   "execution_count": 72,
   "id": "4eb04ee9-ddd1-4625-b362-b12d5665859f",
   "metadata": {},
   "outputs": [
    {
     "data": {
      "text/plain": [
       "[0.0, 0.0, 0.0, 0.0, 0.0]"
      ]
     },
     "execution_count": 72,
     "metadata": {},
     "output_type": "execute_result"
    }
   ],
   "source": [
    "machin "
   ]
  },
  {
   "cell_type": "code",
   "execution_count": 74,
   "id": "9a7048f3-1b38-4c7d-b5b1-c076a7f4c618",
   "metadata": {},
   "outputs": [
    {
     "data": {
      "text/plain": [
       "[0, 1, 2, 3]"
      ]
     },
     "execution_count": 74,
     "metadata": {},
     "output_type": "execute_result"
    }
   ],
   "source": [
    "# Affichage d' une liste de 0 jusqua 3 \n",
    "\n",
    "list(range(0,4))"
   ]
  },
  {
   "cell_type": "code",
   "execution_count": 75,
   "id": "b6312388-47b0-48e0-acad-33991efea387",
   "metadata": {},
   "outputs": [
    {
     "data": {
      "text/plain": [
       "[4, 5, 6, 7]"
      ]
     },
     "execution_count": 75,
     "metadata": {},
     "output_type": "execute_result"
    }
   ],
   "source": [
    "# Affichage d' une liste de 4 jusqua 7 \n",
    "\n",
    "list(range(4,8))"
   ]
  },
  {
   "cell_type": "code",
   "execution_count": 76,
   "id": "03750e58-e8d0-4820-872c-36b9a57845ba",
   "metadata": {},
   "outputs": [
    {
     "data": {
      "text/plain": [
       "[2, 4, 6, 8]"
      ]
     },
     "execution_count": 76,
     "metadata": {},
     "output_type": "execute_result"
    }
   ],
   "source": [
    "# Affichage d' une liste de 2 jusqua 8 par pas de 2  \n",
    "\n",
    "list(range(2,9,2))"
   ]
  },
  {
   "cell_type": "code",
   "execution_count": 80,
   "id": "01719dea-4196-4c70-8631-0990ad7257fa",
   "metadata": {},
   "outputs": [
    {
     "data": {
      "text/plain": [
       "[0, 1, 2, 3, 4, 5]"
      ]
     },
     "execution_count": 80,
     "metadata": {},
     "output_type": "execute_result"
    }
   ],
   "source": [
    "chose = list(range(0,6))\n",
    "chose "
   ]
  },
  {
   "cell_type": "code",
   "execution_count": 79,
   "id": "b88c5987-b1e0-4134-a461-24f10bffc4d6",
   "metadata": {},
   "outputs": [
    {
     "data": {
      "text/plain": [
       "True"
      ]
     },
     "execution_count": 79,
     "metadata": {},
     "output_type": "execute_result"
    }
   ],
   "source": [
    "3 in chose "
   ]
  },
  {
   "cell_type": "code",
   "execution_count": 81,
   "id": "06e1138e-4eaa-434f-b145-d209430fde22",
   "metadata": {},
   "outputs": [
    {
     "data": {
      "text/plain": [
       "False"
      ]
     },
     "execution_count": 81,
     "metadata": {},
     "output_type": "execute_result"
    }
   ],
   "source": [
    "6 in chose "
   ]
  },
  {
   "cell_type": "code",
   "execution_count": null,
   "id": "0584260e-68ac-4fdc-8aa2-21ed9503e747",
   "metadata": {},
   "outputs": [],
   "source": []
  },
  {
   "cell_type": "code",
   "execution_count": null,
   "id": "58d591c5-5313-4540-802b-e64aa8d28ae4",
   "metadata": {},
   "outputs": [],
   "source": []
  }
 ],
 "metadata": {
  "kernelspec": {
   "display_name": "Python 3 (ipykernel)",
   "language": "python",
   "name": "python3"
  },
  "language_info": {
   "codemirror_mode": {
    "name": "ipython",
    "version": 3
   },
   "file_extension": ".py",
   "mimetype": "text/x-python",
   "name": "python",
   "nbconvert_exporter": "python",
   "pygments_lexer": "ipython3",
   "version": "3.9.7"
  }
 },
 "nbformat": 4,
 "nbformat_minor": 5
}
