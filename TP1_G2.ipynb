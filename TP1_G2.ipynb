{
 "cells": [
  {
   "cell_type": "markdown",
   "id": "ae9ee6be-446e-45b7-a04f-793199ae79a2",
   "metadata": {},
   "source": [
    "### TP1 : Type et Instrucition de base \n",
    "\n",
    " <br/> \n",
    " \n",
    "#### Exercice 1 : "
   ]
  },
  {
   "cell_type": "code",
   "execution_count": 39,
   "id": "cb6c7383-9434-4a69-aefd-cf29b936321e",
   "metadata": {},
   "outputs": [
    {
     "name": "stdout",
     "output_type": "stream",
     "text": [
      "la vitesse est de 2.9\n"
     ]
    }
   ],
   "source": [
    "# creation des variables \n",
    "\n",
    "temps = 6.892 \n",
    "distance = 19.7 \n",
    "\n",
    "# autre type daffectation \n",
    "\n",
    "# temps, distance = 6.892 , 19.7 \n",
    "\n",
    "# calcul de la vitesse \n",
    "vitesse = distance / temps \n",
    "\n",
    "# utilisation de la fonction print \n",
    "\n",
    "print(f\"la vitesse est de {vitesse:.1f}\") \n"
   ]
  },
  {
   "cell_type": "markdown",
   "id": "f3d0e280-4746-4b19-8646-0fd45ad46ea1",
   "metadata": {},
   "source": [
    "### Exercice 2 \n",
    "<br/> \n",
    "\n",
    "définition de la fonction aire_disque "
   ]
  },
  {
   "cell_type": "code",
   "execution_count": 43,
   "id": "f54dc800-43f4-4b59-8722-bde07a6f88cf",
   "metadata": {},
   "outputs": [],
   "source": [
    "import math \n",
    "\n",
    "def aire_disque(r): \n",
    "    \"\"\"\n",
    "    cette fonction calcule l'aire d' un disque \n",
    "    \n",
    "    parameters :\n",
    "    -----------\n",
    "    r : c'est de votre disque \n",
    "    \n",
    "    return: \n",
    "    --------\n",
    "    cette fonction retourne la skurface de votre dsique \n",
    "    \n",
    "    \"\"\"\n",
    "    surface  =  math.pi *  (r**2)\n",
    "    \n",
    "    return surface \n",
    "    \n",
    "    \n",
    "    "
   ]
  },
  {
   "cell_type": "code",
   "execution_count": 55,
   "id": "64aae105-f310-4416-ac7f-6330c0f8322d",
   "metadata": {},
   "outputs": [],
   "source": [
    "assert aire_disque(3) ==  28.274333882308138 "
   ]
  },
  {
   "cell_type": "code",
   "execution_count": 64,
   "id": "438c9cb9-ecf3-438b-9fbc-82fb365b3916",
   "metadata": {},
   "outputs": [],
   "source": [
    "def aire_courone(r_1, r_2 ): \n",
    "    return aire_disque(r_2) - aire_disque(r_1)"
   ]
  },
  {
   "cell_type": "code",
   "execution_count": 65,
   "id": "24bc0e7a-757d-46c1-89dc-431c1afde42f",
   "metadata": {},
   "outputs": [
    {
     "data": {
      "text/plain": [
       "37.69911184307752"
      ]
     },
     "execution_count": 65,
     "metadata": {},
     "output_type": "execute_result"
    }
   ],
   "source": [
    "aire_courone(2, 4)"
   ]
  },
  {
   "cell_type": "code",
   "execution_count": 66,
   "id": "8e78960d-2406-4075-ad69-f48ac720436c",
   "metadata": {},
   "outputs": [],
   "source": [
    "assert aire_courone(2, 4) == 37.69911184307752"
   ]
  },
  {
   "cell_type": "markdown",
   "id": "5917eee3-97d5-444c-9040-61f55b0a45f1",
   "metadata": {},
   "source": [
    "### Exercice 3 \n",
    "\n",
    "<br/>"
   ]
  },
  {
   "cell_type": "code",
   "execution_count": 70,
   "id": "fbcd253e-080a-4f14-aa90-e9a1d73afe06",
   "metadata": {},
   "outputs": [
    {
     "name": "stdin",
     "output_type": "stream",
     "text": [
      "Donner votre nom : ibrahima \n",
      "Donner votre age : 28\n"
     ]
    }
   ],
   "source": [
    "nom = input(\"Donner votre nom :\" )\n",
    "age = int(input(\"Donner votre age :\" )) "
   ]
  },
  {
   "cell_type": "code",
   "execution_count": 78,
   "id": "d4a0f710-fe2f-4068-b1ec-fe4d33576406",
   "metadata": {},
   "outputs": [
    {
     "name": "stdout",
     "output_type": "stream",
     "text": [
      "le nom de l'utilisateur :  ibrahima \n",
      "l' age  de l'utilisateur :  28 ans \n"
     ]
    }
   ],
   "source": [
    "print(f\"le nom de l'utilisateur :  {nom}\")\n",
    "print(f\"l' age  de l'utilisateur :  {age} ans \") "
   ]
  },
  {
   "cell_type": "markdown",
   "id": "f91eee47-4ebe-4bd5-abb5-1ee664e55298",
   "metadata": {},
   "source": [
    "### Exercice 4 "
   ]
  },
  {
   "cell_type": "code",
   "execution_count": 88,
   "id": "df85b6d4-2ce1-47be-bbcd-3363658d1959",
   "metadata": {},
   "outputs": [],
   "source": [
    "# creation de objet liste \n",
    "liste = [17, 38, 10, 25, 72]"
   ]
  },
  {
   "cell_type": "markdown",
   "id": "b4d02b3b-720c-4683-9b93-0d94c5315cef",
   "metadata": {},
   "source": [
    "> La fonction  `sorted` permet de faire un trie mais retourne un objet donc il faut sctocker avant de l' utiliser "
   ]
  },
  {
   "cell_type": "code",
   "execution_count": 93,
   "id": "1f7c5d37-eb2e-4e6d-b2ef-c8198397cf20",
   "metadata": {},
   "outputs": [
    {
     "data": {
      "text/plain": [
       "[10, 17, 25, 38, 72]"
      ]
     },
     "execution_count": 93,
     "metadata": {},
     "output_type": "execute_result"
    }
   ],
   "source": [
    "liste_trie = sorted(liste)"
   ]
  },
  {
   "cell_type": "markdown",
   "id": "21214bb7-04af-4c26-ab48-32c97cf907e3",
   "metadata": {},
   "source": [
    "> la méthode `sort` permet de faire un trie sur place , donc penser à copier  avant d'utiliser la méthode  "
   ]
  },
  {
   "cell_type": "code",
   "execution_count": 89,
   "id": "b18f3f1c-8c65-4e90-9fae-62ad53afdc5d",
   "metadata": {},
   "outputs": [],
   "source": [
    "import  copy \n",
    "\n",
    "liste_copie = copy.deepcopy(liste) "
   ]
  },
  {
   "cell_type": "code",
   "execution_count": 90,
   "id": "6b26bb8f-122f-49b9-b8e4-6649f7ff2cca",
   "metadata": {},
   "outputs": [],
   "source": [
    "liste.sort()"
   ]
  },
  {
   "cell_type": "code",
   "execution_count": 91,
   "id": "92ba356e-7e79-4646-9f98-9355db0871fd",
   "metadata": {},
   "outputs": [
    {
     "data": {
      "text/plain": [
       "[10, 17, 25, 38, 72]"
      ]
     },
     "execution_count": 91,
     "metadata": {},
     "output_type": "execute_result"
    }
   ],
   "source": [
    "liste "
   ]
  },
  {
   "cell_type": "code",
   "execution_count": 92,
   "id": "a48f99a6-60c2-4f59-87bf-66bbdfcaec96",
   "metadata": {},
   "outputs": [
    {
     "data": {
      "text/plain": [
       "[17, 38, 10, 25, 72]"
      ]
     },
     "execution_count": 92,
     "metadata": {},
     "output_type": "execute_result"
    }
   ],
   "source": [
    "liste_copie"
   ]
  },
  {
   "cell_type": "code",
   "execution_count": 95,
   "id": "9bb9c1d1-6a54-432b-9085-443e2c2df778",
   "metadata": {},
   "outputs": [],
   "source": [
    "liste.append(12) "
   ]
  },
  {
   "cell_type": "markdown",
   "id": "d980e9e4-df7c-4fb1-9fe5-9731e5e5eeb9",
   "metadata": {},
   "source": [
    "#### question 2 "
   ]
  },
  {
   "cell_type": "code",
   "execution_count": 96,
   "id": "b7243abb-048b-4170-b82f-4162656cbea8",
   "metadata": {},
   "outputs": [
    {
     "data": {
      "text/plain": [
       "[10, 17, 25, 38, 72, 12, 12]"
      ]
     },
     "execution_count": 96,
     "metadata": {},
     "output_type": "execute_result"
    }
   ],
   "source": [
    "liste "
   ]
  },
  {
   "cell_type": "markdown",
   "id": "b9e66180-f950-4b7a-9762-ac4c331c4efb",
   "metadata": {},
   "source": [
    "#### Question 3 "
   ]
  },
  {
   "cell_type": "code",
   "execution_count": 97,
   "id": "eac39a69-a561-4f79-b668-a70253aa7940",
   "metadata": {},
   "outputs": [],
   "source": [
    "liste.reverse()"
   ]
  },
  {
   "cell_type": "code",
   "execution_count": 98,
   "id": "a0c68603-8967-437a-bc0c-87f08bf93378",
   "metadata": {},
   "outputs": [
    {
     "data": {
      "text/plain": [
       "[12, 12, 72, 38, 25, 17, 10]"
      ]
     },
     "execution_count": 98,
     "metadata": {},
     "output_type": "execute_result"
    }
   ],
   "source": [
    "liste "
   ]
  },
  {
   "cell_type": "code",
   "execution_count": 99,
   "id": "f3527428-e699-4585-ac33-1f0afa519101",
   "metadata": {},
   "outputs": [
    {
     "data": {
      "text/plain": [
       "[10, 17, 25, 38, 72, 12, 12]"
      ]
     },
     "execution_count": 99,
     "metadata": {},
     "output_type": "execute_result"
    }
   ],
   "source": [
    "# liste[::-1]"
   ]
  },
  {
   "cell_type": "markdown",
   "id": "210dabe2-9318-4acd-94e0-6424204c2c64",
   "metadata": {},
   "source": [
    "#### Question 4 "
   ]
  },
  {
   "cell_type": "code",
   "execution_count": 101,
   "id": "cd34f27a-c0a1-4666-864a-9f7b1d2b2e1f",
   "metadata": {},
   "outputs": [
    {
     "data": {
      "text/plain": [
       "5"
      ]
     },
     "execution_count": 101,
     "metadata": {},
     "output_type": "execute_result"
    }
   ],
   "source": [
    "liste.index(17)"
   ]
  },
  {
   "cell_type": "markdown",
   "id": "a3e47b7c-42bd-42bc-a3c2-b848b62b7a1b",
   "metadata": {},
   "source": [
    "#### Question 5 "
   ]
  },
  {
   "cell_type": "code",
   "execution_count": 115,
   "id": "a419299e-af01-4a3e-81f4-049e8e6d26d5",
   "metadata": {},
   "outputs": [
    {
     "ename": "ValueError",
     "evalue": "38 is not in list",
     "output_type": "error",
     "traceback": [
      "\u001b[0;31m---------------------------------------------------------------------------\u001b[0m",
      "\u001b[0;31mValueError\u001b[0m                                Traceback (most recent call last)",
      "\u001b[0;32m/var/folders/sq/462l7_3n27v2bh21r8_xxnkh0000gn/T/ipykernel_95886/3952033256.py\u001b[0m in \u001b[0;36m<module>\u001b[0;34m\u001b[0m\n\u001b[0;32m----> 1\u001b[0;31m \u001b[0mliste\u001b[0m\u001b[0;34m[\u001b[0m\u001b[0mliste\u001b[0m\u001b[0;34m.\u001b[0m\u001b[0mindex\u001b[0m\u001b[0;34m(\u001b[0m\u001b[0;36m38\u001b[0m\u001b[0;34m)\u001b[0m\u001b[0;34m]\u001b[0m\u001b[0;34m\u001b[0m\u001b[0;34m\u001b[0m\u001b[0m\n\u001b[0m",
      "\u001b[0;31mValueError\u001b[0m: 38 is not in list"
     ]
    }
   ],
   "source": [
    "liste[liste.index(38)]"
   ]
  },
  {
   "cell_type": "code",
   "execution_count": 105,
   "id": "ab5e6f1f-94ae-4e08-93cd-d7ee935d5d54",
   "metadata": {},
   "outputs": [
    {
     "data": {
      "text/plain": [
       "[12, 12, 72, 25, 17, 10]"
      ]
     },
     "execution_count": 105,
     "metadata": {},
     "output_type": "execute_result"
    }
   ],
   "source": [
    "liste "
   ]
  },
  {
   "cell_type": "code",
   "execution_count": 107,
   "id": "fe9d720f-6ab0-4c15-816b-3f90b100ea07",
   "metadata": {},
   "outputs": [
    {
     "data": {
      "text/plain": [
       "[72, 25]"
      ]
     },
     "execution_count": 107,
     "metadata": {},
     "output_type": "execute_result"
    }
   ],
   "source": [
    "liste[2:4]"
   ]
  },
  {
   "cell_type": "code",
   "execution_count": 109,
   "id": "ad73f899-bf62-4488-a5f3-620606072ae0",
   "metadata": {},
   "outputs": [
    {
     "data": {
      "text/plain": [
       "[12, 12, 72]"
      ]
     },
     "execution_count": 109,
     "metadata": {},
     "output_type": "execute_result"
    }
   ],
   "source": [
    "liste[:3]"
   ]
  },
  {
   "cell_type": "code",
   "execution_count": 110,
   "id": "32a6dc0c-7674-4ec8-8814-fe0921db1c32",
   "metadata": {},
   "outputs": [
    {
     "data": {
      "text/plain": [
       "[25, 17, 10]"
      ]
     },
     "execution_count": 110,
     "metadata": {},
     "output_type": "execute_result"
    }
   ],
   "source": [
    "liste[3:]"
   ]
  },
  {
   "cell_type": "code",
   "execution_count": 111,
   "id": "99ef0b20-3a00-4f38-abaa-35d5abcf5f90",
   "metadata": {},
   "outputs": [
    {
     "data": {
      "text/plain": [
       "[12, 12, 72, 25, 17, 10]"
      ]
     },
     "execution_count": 111,
     "metadata": {},
     "output_type": "execute_result"
    }
   ],
   "source": [
    "liste[:]"
   ]
  },
  {
   "cell_type": "code",
   "execution_count": 112,
   "id": "cf6f61e5-9988-435d-b13b-1107aece2df5",
   "metadata": {},
   "outputs": [
    {
     "data": {
      "text/plain": [
       "10"
      ]
     },
     "execution_count": 112,
     "metadata": {},
     "output_type": "execute_result"
    }
   ],
   "source": [
    "liste[-1]"
   ]
  },
  {
   "cell_type": "code",
   "execution_count": null,
   "id": "98090947-ebb0-49bd-9098-621713212a2c",
   "metadata": {},
   "outputs": [],
   "source": []
  },
  {
   "cell_type": "code",
   "execution_count": null,
   "id": "58d833e1-55a4-4d1b-9f5b-9516fafa4cf9",
   "metadata": {},
   "outputs": [],
   "source": []
  }
 ],
 "metadata": {
  "kernelspec": {
   "display_name": "Python 3 (ipykernel)",
   "language": "python",
   "name": "python3"
  },
  "language_info": {
   "codemirror_mode": {
    "name": "ipython",
    "version": 3
   },
   "file_extension": ".py",
   "mimetype": "text/x-python",
   "name": "python",
   "nbconvert_exporter": "python",
   "pygments_lexer": "ipython3",
   "version": "3.9.7"
  }
 },
 "nbformat": 4,
 "nbformat_minor": 5
}
