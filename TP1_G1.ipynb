{
 "cells": [
  {
   "cell_type": "markdown",
   "id": "f6833793-6447-488d-b62b-cbc535d2131b",
   "metadata": {},
   "source": [
    "### TP1 :   Type et Instruction de base \n",
    "\n",
    "<br/>\n",
    "\n",
    "#### Exercice 1: "
   ]
  },
  {
   "cell_type": "code",
   "execution_count": 25,
   "id": "a1889e8c-24c7-4ff6-a9e7-6eda8b5add5c",
   "metadata": {},
   "outputs": [
    {
     "name": "stdout",
     "output_type": "stream",
     "text": [
      "la vitesse est de : 2.9\n"
     ]
    }
   ],
   "source": [
    "# creation de des variables \n",
    "temps   = 6.892 \n",
    "distance = 19.7  \n",
    "\n",
    "# calcul de la vitesse\n",
    "vitesse = distance / temps \n",
    "\n",
    "# utilisation de la fonction print \n",
    "print(f\"la vitesse est de : {vitesse:.1f}\")"
   ]
  },
  {
   "cell_type": "code",
   "execution_count": 16,
   "id": "eae99b05-5f6a-4ebb-8c73-0f76a54936bf",
   "metadata": {},
   "outputs": [],
   "source": [
    "#### Exercice 2 :  "
   ]
  },
  {
   "cell_type": "code",
   "execution_count": 33,
   "id": "d35bd6fc-cd90-4f95-9f4f-214a80a38978",
   "metadata": {},
   "outputs": [],
   "source": [
    "# Question 1 \n",
    "import math \n",
    "\n",
    "def aire_disque(r): \n",
    "    \"\"\"\n",
    "    cette fonction permet de calculer laire d' un disque \n",
    "    \n",
    "    parameters\n",
    "    ----------\n",
    "    r : le rayon du disque \n",
    "    \n",
    "    return\n",
    "    ------\n",
    "    la fonction retourne la surface d'un disque \n",
    "    \n",
    "    \"\"\"\n",
    "    surface = math.pi * r**2    \n",
    "    return surface "
   ]
  },
  {
   "cell_type": "code",
   "execution_count": 36,
   "id": "a02581ad-f98f-4718-8aed-1d81e699cdb6",
   "metadata": {},
   "outputs": [
    {
     "data": {
      "text/plain": [
       "50.26548245743669"
      ]
     },
     "execution_count": 36,
     "metadata": {},
     "output_type": "execute_result"
    }
   ],
   "source": [
    "aire_disque(4)"
   ]
  },
  {
   "cell_type": "code",
   "execution_count": null,
   "id": "c4b13cd9-c535-40f7-b37e-d20a42c48e9c",
   "metadata": {},
   "outputs": [],
   "source": [
    "assert aire_disque(2) == 12.566370614359172"
   ]
  },
  {
   "cell_type": "code",
   "execution_count": 42,
   "id": "8669e974-7c7c-4b93-b25a-47ebf535769c",
   "metadata": {},
   "outputs": [],
   "source": [
    "def aire_courone(r1, r2): \n",
    "    return aire_disque(r2) - aire_disque(r1)"
   ]
  },
  {
   "cell_type": "code",
   "execution_count": 43,
   "id": "ceff6eeb-d00c-4daf-8e8c-eadba4dc2423",
   "metadata": {},
   "outputs": [
    {
     "data": {
      "text/plain": [
       "37.69911184307752"
      ]
     },
     "execution_count": 43,
     "metadata": {},
     "output_type": "execute_result"
    }
   ],
   "source": [
    "aire_courone(2, 4)"
   ]
  },
  {
   "cell_type": "code",
   "execution_count": 47,
   "id": "6afb55f2-f3fd-4b89-8f27-0e6b0d112bd7",
   "metadata": {},
   "outputs": [],
   "source": [
    "assert aire_courone(2,4) == 37.69911184307752"
   ]
  },
  {
   "cell_type": "markdown",
   "id": "b45d785f-342f-42c9-b6b2-fc4ba3f4bf8b",
   "metadata": {},
   "source": [
    "### Exercice 3 "
   ]
  },
  {
   "cell_type": "code",
   "execution_count": 53,
   "id": "2d6c788d-b491-40d0-b2be-59968c0c916c",
   "metadata": {},
   "outputs": [
    {
     "name": "stdin",
     "output_type": "stream",
     "text": [
      "Veuillez saisir votre nom : ibrahima\n",
      "Donnez votre age 29\n"
     ]
    }
   ],
   "source": [
    "# recuperation du nom et l'affecte dans la variable nom\n",
    "nom = input(\"Veuillez saisir votre nom :\")\n",
    "\n",
    "# recuperation de lage et changement de type str --> int \n",
    "age = int(input(\"Donnez votre age\"))\n",
    "\n"
   ]
  },
  {
   "cell_type": "code",
   "execution_count": null,
   "id": "a5cd58fb-8def-4848-96d5-a350b97c3967",
   "metadata": {},
   "outputs": [],
   "source": []
  },
  {
   "cell_type": "markdown",
   "id": "1c792024-2b17-47e8-a1c8-8d0ea773f19a",
   "metadata": {},
   "source": [
    "### Exercice 4 \n"
   ]
  },
  {
   "cell_type": "code",
   "execution_count": 57,
   "id": "cf0a1634-6828-4b8a-9c58-661c8d09596a",
   "metadata": {},
   "outputs": [],
   "source": [
    "liste = [17, 38, 10, 25, 72]"
   ]
  },
  {
   "cell_type": "code",
   "execution_count": 59,
   "id": "b7be709c-5221-464d-a5e7-6c691062e4d5",
   "metadata": {},
   "outputs": [],
   "source": [
    "# triez et afficher la liste \n",
    "liste_trie = sorted(liste)"
   ]
  },
  {
   "cell_type": "code",
   "execution_count": 60,
   "id": "36510653-a677-4fbe-a92a-df7329e3b947",
   "metadata": {},
   "outputs": [],
   "source": [
    "liste.sort() "
   ]
  },
  {
   "cell_type": "code",
   "execution_count": 61,
   "id": "1476b246-2406-4429-a1ac-7e1ba0e6e376",
   "metadata": {},
   "outputs": [
    {
     "data": {
      "text/plain": [
       "[10, 17, 25, 38, 72]"
      ]
     },
     "execution_count": 61,
     "metadata": {},
     "output_type": "execute_result"
    }
   ],
   "source": [
    "liste "
   ]
  },
  {
   "cell_type": "code",
   "execution_count": null,
   "id": "809bc89d-fca0-4bfe-bba6-abbc47dfc19d",
   "metadata": {},
   "outputs": [],
   "source": []
  }
 ],
 "metadata": {
  "kernelspec": {
   "display_name": "Python 3 (ipykernel)",
   "language": "python",
   "name": "python3"
  },
  "language_info": {
   "codemirror_mode": {
    "name": "ipython",
    "version": 3
   },
   "file_extension": ".py",
   "mimetype": "text/x-python",
   "name": "python",
   "nbconvert_exporter": "python",
   "pygments_lexer": "ipython3",
   "version": "3.9.7"
  }
 },
 "nbformat": 4,
 "nbformat_minor": 5
}
