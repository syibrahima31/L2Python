{
 "cells": [
  {
   "cell_type": "markdown",
   "id": "e5dfc746",
   "metadata": {},
   "source": [
    "# Porposition de Correction du TD2 \n",
    "\n",
    "- Licence 2 : GL\n"
   ]
  },
  {
   "cell_type": "markdown",
   "id": "ee8f2e0b",
   "metadata": {},
   "source": [
    "## Exercice 1 "
   ]
  },
  {
   "cell_type": "code",
   "execution_count": 188,
   "id": "2df196b8",
   "metadata": {},
   "outputs": [],
   "source": [
    "def demande_note(): \n",
    "    L_note = []\n",
    "    L_coef = []\n",
    "    for i in range(3):\n",
    "        note = int(input(f\"Donnez la {i+1} note : \"))\n",
    "        L_note.append(note)\n",
    "        coef = int(input(f\"Donnez le coefficient de la note  {i+1} : \"))\n",
    "        L_coef.append(coef)\n",
    "    return L_note, L_coef \n",
    "\n"
   ]
  },
  {
   "cell_type": "code",
   "execution_count": 189,
   "id": "f80673e7",
   "metadata": {},
   "outputs": [],
   "source": [
    "def deliberation(): \n",
    "    notes,coefs =  demande_note() \n",
    "\n",
    "    somme_num  = 0 \n",
    "    somme_coef = 0 \n",
    "\n",
    "    for i in range(3):\n",
    "        somme_num += notes[i]*coefs[i] \n",
    "        somme_coef += coefs[i] \n",
    "    moyenne = somme_num / somme_coef\n",
    "    \n",
    "    if moyenne < 10 : \n",
    "        print(\"Tu es ajourné\")\n",
    "    else : \n",
    "        print(\"Tu es admis\")\n",
    "    \n",
    "\n",
    "\n",
    "    "
   ]
  },
  {
   "cell_type": "markdown",
   "id": "49be652e",
   "metadata": {},
   "source": [
    "## Exercice 2 "
   ]
  },
  {
   "cell_type": "code",
   "execution_count": 211,
   "id": "f410284d",
   "metadata": {},
   "outputs": [],
   "source": [
    "def demande_coef():\n",
    "    L = [\"b\", \"c\"] \n",
    "    L_coef = []\n",
    "\n",
    "    a =  0 \n",
    "\n",
    "    while a == 0: \n",
    "        a = float(input(f\" Donnez le coefficient a non nul : \"))\n",
    "    \n",
    "    L_coef.append(a)\n",
    "\n",
    "    for i in L: \n",
    "        coef = float(input(f\"Donne le coefficient {i} : \"))\n",
    "        L_coef.append(coef)\n",
    "    return L_coef \n",
    "       \n"
   ]
  },
  {
   "cell_type": "code",
   "execution_count": 219,
   "id": "f7507edb",
   "metadata": {},
   "outputs": [],
   "source": [
    "from math import sqrt\n",
    "\n",
    "def solve_trinome(): \n",
    "    L_coef = demande_coef()\n",
    "\n",
    "    a, b, c = L_coef \n",
    "\n",
    "    delta = (b)**2 - 4 *a*c\n",
    "\n",
    "    if delta >  0: \n",
    "        x1 = (-b - sqrt(delta))/ (2*a)\n",
    "        x2 = (-b + sqrt(delta))/ (2*a)\n",
    "        print(f\"On na deux solutions distinct x1={x1:.2f} et x2={x2:.2f} \")\n",
    "\n",
    "    elif delta == 0 :\n",
    "        x0 = -b/ 2*a \n",
    "        print(f\"On une solution double  x0={x0}  \")\n",
    "    \n",
    "    else: \n",
    "        print(\" Pas de solution dans R \")\n",
    "    \n",
    "\n",
    "\n",
    "\n"
   ]
  },
  {
   "cell_type": "code",
   "execution_count": 220,
   "id": "4261e4aa",
   "metadata": {},
   "outputs": [
    {
     "name": "stdout",
     "output_type": "stream",
     "text": [
      " Pas de solution dans R \n"
     ]
    }
   ],
   "source": [
    "solve_trinome()"
   ]
  },
  {
   "cell_type": "markdown",
   "id": "4e6e1a53",
   "metadata": {},
   "source": [
    "## Exercice 3 "
   ]
  },
  {
   "cell_type": "code",
   "execution_count": 221,
   "id": "30247b34",
   "metadata": {},
   "outputs": [],
   "source": [
    "import random"
   ]
  },
  {
   "cell_type": "code",
   "execution_count": 231,
   "id": "42d67cdf",
   "metadata": {},
   "outputs": [],
   "source": [
    "nombre_tire = random.randint(1,30)"
   ]
  },
  {
   "cell_type": "code",
   "execution_count": 236,
   "id": "5b39f0be",
   "metadata": {},
   "outputs": [
    {
     "name": "stdout",
     "output_type": "stream",
     "text": [
      "Saisir plus grand\n",
      "Saisir plus grand\n",
      "Bien joué tu as trouvé\n"
     ]
    }
   ],
   "source": [
    "valeur_saisi = int(input(\"Deviner l'entier compris en 1 et 30 :\"))\n",
    "nb_joue = 1\n",
    "while True : \n",
    "\n",
    "    if nb_joue > 5: \n",
    "        print(\"Vous avez perdu\")\n",
    "        break\n",
    "    \n",
    "\n",
    "    if valeur_saisi > nombre_tire: \n",
    "        print(\"Saisir plus petit\")\n",
    "        valeur_saisi = int(input())\n",
    "        nb_joue += 1 \n",
    "    elif valeur_saisi <  nombre_tire:\n",
    "        print(\"Saisir plus grand\")\n",
    "        valeur_saisi = int(input())\n",
    "        nb_joue += 1 \n",
    "    elif valeur_saisi == nombre_tire:\n",
    "        print(\"Bien joué tu as trouvé\")\n",
    "        break \n",
    "\n",
    "\n"
   ]
  },
  {
   "cell_type": "markdown",
   "id": "c8bfcade",
   "metadata": {},
   "source": [
    "## Exercice 4\n",
    "\n",
    "<br/>\n",
    "\n",
    "### Question 1 "
   ]
  },
  {
   "cell_type": "code",
   "execution_count": null,
   "id": "ddb87d30",
   "metadata": {},
   "outputs": [],
   "source": [
    "C1 = \"marie\"\n",
    "C2 = \"maire\""
   ]
  },
  {
   "cell_type": "code",
   "execution_count": null,
   "id": "b0ec3966",
   "metadata": {},
   "outputs": [],
   "source": [
    "# méthode 1 \n",
    "def Annagrame(C1, C2): \n",
    "    if sorted(C1) ==  sorted(C2):\n",
    "        return True \n",
    "    else :\n",
    "        return False "
   ]
  },
  {
   "cell_type": "code",
   "execution_count": null,
   "id": "40ef9dfb",
   "metadata": {},
   "outputs": [],
   "source": [
    "Annagrame(C1, C2)"
   ]
  },
  {
   "cell_type": "code",
   "execution_count": null,
   "id": "de1e29dd",
   "metadata": {},
   "outputs": [],
   "source": [
    "# méthode 2 \n",
    "def Annagrame_bis(C1, C2): \n",
    "    return sorted(C1) ==  sorted(C2)\n",
    "      "
   ]
  },
  {
   "cell_type": "code",
   "execution_count": null,
   "id": "7b81332d",
   "metadata": {},
   "outputs": [],
   "source": [
    "Annagrame_bis(C1,C2)"
   ]
  },
  {
   "cell_type": "markdown",
   "id": "c18a757a",
   "metadata": {},
   "source": [
    "###  Question 2 "
   ]
  },
  {
   "cell_type": "code",
   "execution_count": null,
   "id": "9eb6fe6b",
   "metadata": {},
   "outputs": [],
   "source": [
    "# methode 1 \n",
    "def listeAnnagrame(L, C1):\n",
    "    compteur = 0 \n",
    "    for elt in L : \n",
    "        if Annagrame(elt, C1): \n",
    "            compteur += 1 \n",
    "\n",
    "    if compteur == len(L):\n",
    "        return True \n",
    "    else : \n",
    "        return False "
   ]
  },
  {
   "cell_type": "code",
   "execution_count": null,
   "id": "8d0f2e80",
   "metadata": {},
   "outputs": [],
   "source": [
    "# methode 2 \n",
    "def listeAnnagrame2(L, C1):\n",
    "    compteur = 0 \n",
    "    for elt in L : \n",
    "        if Annagrame(elt, C1): \n",
    "            compteur += 1 \n",
    "\n",
    "    return compteur==len(L)"
   ]
  },
  {
   "cell_type": "code",
   "execution_count": null,
   "id": "4af86340",
   "metadata": {},
   "outputs": [],
   "source": [
    "# methode 3 \n",
    "def listeAnnagrame3(L, C1):\n",
    "    return sum([Annagrame(C1, i) for i in L ]) == len(L)"
   ]
  },
  {
   "cell_type": "markdown",
   "id": "1b474022",
   "metadata": {},
   "source": [
    "### Question 4"
   ]
  },
  {
   "cell_type": "code",
   "execution_count": 1,
   "id": "c9148658",
   "metadata": {},
   "outputs": [],
   "source": [
    "L = ['maire', 'marie', 'ramie', 'riame', 'mirae']"
   ]
  },
  {
   "cell_type": "code",
   "execution_count": 2,
   "id": "200204b0",
   "metadata": {},
   "outputs": [],
   "source": [
    "def NbCar(L): \n",
    "    liste = [ ]\n",
    "\n",
    "    for i in L : \n",
    "        liste.append((i, len(i)))\n",
    "    return liste "
   ]
  },
  {
   "cell_type": "code",
   "execution_count": 4,
   "id": "8753849d",
   "metadata": {},
   "outputs": [
    {
     "data": {
      "text/plain": [
       "[('maire', 5), ('marie', 5), ('ramie', 5), ('riame', 5), ('mirae', 5)]"
      ]
     },
     "execution_count": 4,
     "metadata": {},
     "output_type": "execute_result"
    }
   ],
   "source": [
    "\n",
    "NbCar(L)"
   ]
  },
  {
   "cell_type": "code",
   "execution_count": 5,
   "id": "df95b32c",
   "metadata": {},
   "outputs": [
    {
     "data": {
      "text/plain": [
       "[('maire', 5), ('marie', 5), ('ramie', 5), ('riame', 5), ('mirae', 5)]"
      ]
     },
     "execution_count": 5,
     "metadata": {},
     "output_type": "execute_result"
    }
   ],
   "source": [
    "#  Autre mtehode  \n",
    "[(i,len(i)) for i in L ]"
   ]
  },
  {
   "cell_type": "code",
   "execution_count": null,
   "id": "61b2ab6c",
   "metadata": {},
   "outputs": [],
   "source": []
  }
 ],
 "metadata": {
  "kernelspec": {
   "display_name": "Python 3 (ipykernel)",
   "language": "python",
   "name": "python3"
  },
  "language_info": {
   "codemirror_mode": {
    "name": "ipython",
    "version": 3
   },
   "file_extension": ".py",
   "mimetype": "text/x-python",
   "name": "python",
   "nbconvert_exporter": "python",
   "pygments_lexer": "ipython3",
   "version": "3.9.9"
  }
 },
 "nbformat": 4,
 "nbformat_minor": 5
}
